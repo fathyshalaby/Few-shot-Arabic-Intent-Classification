{
 "cells": [
  {
   "attachments": {},
   "cell_type": "markdown",
   "metadata": {},
   "source": [
    "# Arabic Intent Classification using SetFit - Efficient Few-shot Learning with Sentence Transformers\n",
    "\n",

"Recently Huggingface and intel have published a paper on SetFit, a novel few-shot learning approach for sentence embeddings. SetFit is a simple and efficient method that can be used to train sentence embeddings for few-shot learning tasks. In this notebook, we will show how to use SetFit to train sentence embeddings for Arabic Intent Classification"
   ]
  },
  {
   "cell_type": "code",
   "execution_count": null,
   "metadata": {},
   "outputs": [],
   "source": [
    "from datasets import load_dataset\n",
    "import numpy as np\n",
    "import pandas as pd\n",
    "import plotly.express as px\n",
    "from datasets import load_dataset\n",
    "from sentence_transformers.losses import BatchAllTripletLoss\n",
    "\n",
    "from setfit import SetFitModel, SetFitTrainer, sample_dataset"
   ]
  },
  {
   "attachments": {},
   "cell_type": "markdown",
   "metadata": {},
   "source": [
    "## Loading of the Massive Intent Arabic Dataset from HuggingFace"
   ]
  },
  {
   "cell_type": "code",
   "execution_count": null,
   "metadata": {},
   "outputs": [],
   "source": [
    "dataset = load_dataset(\"SetFit/amazon_massive_intent_ar-SA\")\n",
    "train_dataset = sample_dataset(dataset[\"train\"], 128)\n",
    "eval_dataset = dataset[\"test\"]"
   ]
  },
  {
   "attachments": {},
   "cell_type": "markdown",
   "metadata": {},
   "source": [
    "## Setting up of Setfit Trainer and training of the model"
   ]
  },
  {
   "cell_type": "code",
   "execution_count": null,
   "metadata": {},
   "outputs": [],
   "source": [
    "# Load a SetFit model from Hub\n",
    "model = SetFitModel.from_pretrained(\"symanto/sn-xlm-roberta-base-snli-mnli-anli-xnli\")\n",
    "\n",
    "# Create trainer\n",
    "trainer = SetFitTrainer(\n",
    "    model=model,\n",
    "    train_dataset=train_dataset,\n",
    "    eval_dataset=eval_dataset,\n",
    "    loss_class=BatchAllTripletLoss,\n",
    "    metric=\"accuracy\",\n",
    "    batch_size=64,\n",
    "    num_iterations=20, # The number of text pairs to generate for contrastive learning\n",
    "    num_epochs=16, # The number of epochs to use for contrastive learning\n",
    "    warumup_proportion=0.2, # The proportion of the training steps to use for the warmup\n",
    ")\n",
    "\n",
    "# Train and evaluate\n",
    "trainer.train()\n",
    "metrics = trainer.evaluate()\n"
   ]
  },
  {
   "cell_type": "code",
   "execution_count": null,
   "metadata": {},
   "outputs": [],
   "source": [
    "\n",
    "# Push model to the Hub\n",
    "trainer.push_to_hub(\"fathyshalab/massive-ar-SA\")\n",
    "\n",
    "# Download from Hub and run inference\n",
    "model = SetFitModel.from_pretrained(\"fathyshalab/massive-ar-SA\")\n",
    "# Run inference\n",
    "preds = model([\"تشغيل الأضواء\", \"كيف هو الطقس يوم الثلاثاء الثالث عشر\"])"
   ]
  }
 ],
 "metadata": {
  "language_info": {
   "name": "python"
  },
  "orig_nbformat": 4
 },
 "nbformat": 4,
 "nbformat_minor": 2
}
